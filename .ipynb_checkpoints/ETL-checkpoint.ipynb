{
 "cells": [
  {
   "cell_type": "code",
   "execution_count": null,
   "metadata": {},
   "outputs": [],
   "source": [
    "\"\"\"Project Summary\n",
    "\n",
    "Step 1: Scope the Project and Gather Data\n",
    "Step 2: Explore and Assess the Data\n",
    "Step 3: Define the Data Model\n",
    "Step 4: Run ETL to Model the Data\n",
    "Step 5: Complete Project Write Up\n",
    "\n",
    "\"\"\""
   ]
  },
  {
   "cell_type": "code",
   "execution_count": null,
   "metadata": {},
   "outputs": [],
   "source": [
    "'''\n",
    "# Step 1: Scope the Project and Gather Data\n",
    "\n",
    "-- From Toronto datasets collected, we will extract various data points on apartment buildings in the Toronto area\n",
    "such income, type of building, and ratings. In the end, We will build a dashboard to show those found data points\n",
    "to understand the potential area we will place our distribution center. \n",
    "'''"
   ]
  },
  {
   "cell_type": "code",
   "execution_count": 56,
   "metadata": {},
   "outputs": [],
   "source": [
    "import pandas as pd\n",
    "from pyspark.sql import SparkSession\n",
    "from pyspark.sql.types import *\n",
    "import pyspark.sql.functions as F\n",
    "import psycopg2\n",
    "import uuid\n",
    "import re\n",
    "import os\n",
    "import configparser\n",
    "import boto3\n",
    "\n",
    "# Configuration"
   ]
  },
  {
   "cell_type": "code",
   "execution_count": 55,
   "metadata": {},
   "outputs": [
    {
     "data": {
      "text/html": [
       "\n",
       "            <div>\n",
       "                <p><b>SparkSession - in-memory</b></p>\n",
       "                \n",
       "        <div>\n",
       "            <p><b>SparkContext</b></p>\n",
       "\n",
       "            <p><a href=\"http://DESKTOP-36ONEDJ:4040\">Spark UI</a></p>\n",
       "\n",
       "            <dl>\n",
       "              <dt>Version</dt>\n",
       "                <dd><code>v2.4.3</code></dd>\n",
       "              <dt>Master</dt>\n",
       "                <dd><code>local[*]</code></dd>\n",
       "              <dt>AppName</dt>\n",
       "                <dd><code>pyspark-shell</code></dd>\n",
       "            </dl>\n",
       "        </div>\n",
       "        \n",
       "            </div>\n",
       "        "
      ],
      "text/plain": [
       "<pyspark.sql.session.SparkSession at 0x263ccfbb1c8>"
      ]
     },
     "execution_count": 55,
     "metadata": {},
     "output_type": "execute_result"
    }
   ],
   "source": [
    "# Get the Spark session\n",
    "spark = SparkSession \\\n",
    "        .builder \\\n",
    "        .config(\"spark.jars.packages\", \"org.apache.hadoop:hadoop-aws:2.7.0\") \\\n",
    "        .getOrCreate()\n",
    "\n",
    "spark"
   ]
  },
  {
   "cell_type": "code",
   "execution_count": 62,
   "metadata": {},
   "outputs": [
    {
     "data": {
      "text/html": [
       "<div>\n",
       "<style scoped>\n",
       "    .dataframe tbody tr th:only-of-type {\n",
       "        vertical-align: middle;\n",
       "    }\n",
       "\n",
       "    .dataframe tbody tr th {\n",
       "        vertical-align: top;\n",
       "    }\n",
       "\n",
       "    .dataframe thead th {\n",
       "        text-align: right;\n",
       "    }\n",
       "</style>\n",
       "<table border=\"1\" class=\"dataframe\">\n",
       "  <thead>\n",
       "    <tr style=\"text-align: right;\">\n",
       "      <th></th>\n",
       "      <th>_id</th>\n",
       "      <th>APPLICATION#</th>\n",
       "      <th>APPLICATION_TYPE</th>\n",
       "      <th>DATE_SUBMITTED</th>\n",
       "      <th>DESCRIPTION</th>\n",
       "      <th>HEARING_DATE</th>\n",
       "      <th>POSTAL</th>\n",
       "      <th>REFERENCE_FILE#</th>\n",
       "      <th>STATUS</th>\n",
       "      <th>STREET_DIRECTION</th>\n",
       "      <th>STREET_NAME</th>\n",
       "      <th>STREET_NUM</th>\n",
       "      <th>STREET_TYPE</th>\n",
       "      <th>X</th>\n",
       "      <th>Y</th>\n",
       "    </tr>\n",
       "  </thead>\n",
       "  <tbody>\n",
       "    <tr>\n",
       "      <th>0</th>\n",
       "      <td>540631</td>\n",
       "      <td>17 260753 STE 28 SA</td>\n",
       "      <td>SA</td>\n",
       "      <td>2017-11-10</td>\n",
       "      <td>Site Plan Control application for a proposed 1...</td>\n",
       "      <td>None</td>\n",
       "      <td></td>\n",
       "      <td>None</td>\n",
       "      <td>Closed</td>\n",
       "      <td>E</td>\n",
       "      <td>KING</td>\n",
       "      <td>65</td>\n",
       "      <td>ST</td>\n",
       "      <td>314829.237</td>\n",
       "      <td>4834177.49</td>\n",
       "    </tr>\n",
       "    <tr>\n",
       "      <th>1</th>\n",
       "      <td>540632</td>\n",
       "      <td>18 189938 STE 22 OZ</td>\n",
       "      <td>OZ</td>\n",
       "      <td>2018-07-06</td>\n",
       "      <td>The City has received applications to amend th...</td>\n",
       "      <td>None</td>\n",
       "      <td>M4T</td>\n",
       "      <td>None</td>\n",
       "      <td>Under Review</td>\n",
       "      <td></td>\n",
       "      <td>YONGE</td>\n",
       "      <td>1506</td>\n",
       "      <td>ST</td>\n",
       "      <td>313272.284</td>\n",
       "      <td>4838553.3</td>\n",
       "    </tr>\n",
       "    <tr>\n",
       "      <th>2</th>\n",
       "      <td>540633</td>\n",
       "      <td>18 189996 NNY 25 MV</td>\n",
       "      <td>MV</td>\n",
       "      <td>2018-07-06</td>\n",
       "      <td>To construct a new residential dwelling with a...</td>\n",
       "      <td>2018-08-30</td>\n",
       "      <td>M4N</td>\n",
       "      <td>A0513/18NY</td>\n",
       "      <td>Approved</td>\n",
       "      <td></td>\n",
       "      <td>TEDDINGTON PARK</td>\n",
       "      <td>50</td>\n",
       "      <td>AVE</td>\n",
       "      <td>312715.229</td>\n",
       "      <td>4843548.456</td>\n",
       "    </tr>\n",
       "  </tbody>\n",
       "</table>\n",
       "</div>"
      ],
      "text/plain": [
       "      _id         APPLICATION# APPLICATION_TYPE DATE_SUBMITTED  \\\n",
       "0  540631  17 260753 STE 28 SA               SA     2017-11-10   \n",
       "1  540632  18 189938 STE 22 OZ               OZ     2018-07-06   \n",
       "2  540633  18 189996 NNY 25 MV               MV     2018-07-06   \n",
       "\n",
       "                                         DESCRIPTION HEARING_DATE POSTAL  \\\n",
       "0  Site Plan Control application for a proposed 1...         None          \n",
       "1  The City has received applications to amend th...         None    M4T   \n",
       "2  To construct a new residential dwelling with a...   2018-08-30    M4N   \n",
       "\n",
       "  REFERENCE_FILE#         STATUS STREET_DIRECTION      STREET_NAME STREET_NUM  \\\n",
       "0            None         Closed                E             KING         65   \n",
       "1            None  Under Review                              YONGE       1506   \n",
       "2      A0513/18NY       Approved                   TEDDINGTON PARK         50   \n",
       "\n",
       "  STREET_TYPE           X            Y  \n",
       "0          ST  314829.237   4834177.49  \n",
       "1          ST  313272.284    4838553.3  \n",
       "2         AVE  312715.229  4843548.456  "
      ]
     },
     "execution_count": 62,
     "metadata": {},
     "output_type": "execute_result"
    }
   ],
   "source": [
    "# 1.1 reading in data for development applications\n",
    "dev_application_df = (spark.read\n",
    "  .option(\"header\", True)\n",
    "  .csv(\"Development_Applications_Data.csv\")\n",
    ")\n",
    "dev_application_df.limit(3).toPandas()\n"
   ]
  },
  {
   "cell_type": "code",
   "execution_count": 63,
   "metadata": {},
   "outputs": [
    {
     "data": {
      "text/html": [
       "<div>\n",
       "<style scoped>\n",
       "    .dataframe tbody tr th:only-of-type {\n",
       "        vertical-align: middle;\n",
       "    }\n",
       "\n",
       "    .dataframe tbody tr th {\n",
       "        vertical-align: top;\n",
       "    }\n",
       "\n",
       "    .dataframe thead th {\n",
       "        text-align: right;\n",
       "    }\n",
       "</style>\n",
       "<table border=\"1\" class=\"dataframe\">\n",
       "  <thead>\n",
       "    <tr style=\"text-align: right;\">\n",
       "      <th></th>\n",
       "      <th>Ward Population</th>\n",
       "      <th>Ward</th>\n",
       "    </tr>\n",
       "  </thead>\n",
       "  <tbody>\n",
       "    <tr>\n",
       "      <th>0</th>\n",
       "      <td>Median Age 40.6</td>\n",
       "      <td>Ward 20</td>\n",
       "    </tr>\n",
       "    <tr>\n",
       "      <th>1</th>\n",
       "      <td>Median Age 40P</td>\n",
       "      <td>Ward 15</td>\n",
       "    </tr>\n",
       "    <tr>\n",
       "      <th>2</th>\n",
       "      <td>Median Age 35.6</td>\n",
       "      <td>Ward 11</td>\n",
       "    </tr>\n",
       "  </tbody>\n",
       "</table>\n",
       "</div>"
      ],
      "text/plain": [
       "   Ward Population     Ward\n",
       "0  Median Age 40.6  Ward 20\n",
       "1   Median Age 40P  Ward 15\n",
       "2  Median Age 35.6  Ward 11"
      ]
     },
     "execution_count": 63,
     "metadata": {},
     "output_type": "execute_result"
    }
   ],
   "source": [
    "# 1.2 reading in data for ward demographics\n",
    "ward_demo_df = (spark.read\n",
    "    .option(\"header\", True)\n",
    "    .csv(\"pdf_census.csv\")\n",
    ")\n",
    "dev_application.limit(3).toPandas()"
   ]
  },
  {
   "cell_type": "code",
   "execution_count": 72,
   "metadata": {},
   "outputs": [
    {
     "data": {
      "text/html": [
       "<div>\n",
       "<style scoped>\n",
       "    .dataframe tbody tr th:only-of-type {\n",
       "        vertical-align: middle;\n",
       "    }\n",
       "\n",
       "    .dataframe tbody tr th {\n",
       "        vertical-align: top;\n",
       "    }\n",
       "\n",
       "    .dataframe thead th {\n",
       "        text-align: right;\n",
       "    }\n",
       "</style>\n",
       "<table border=\"1\" class=\"dataframe\">\n",
       "  <thead>\n",
       "    <tr style=\"text-align: right;\">\n",
       "      <th></th>\n",
       "      <th>BALCONY_GUARDS</th>\n",
       "      <th>CONFIRMED_STOREYS</th>\n",
       "      <th>CONFIRMED_UNITS</th>\n",
       "      <th>ELEVATORS</th>\n",
       "      <th>ENTRANCE_DOORS_WINDOWS</th>\n",
       "      <th>ENTRANCE_LOBBY</th>\n",
       "      <th>EVALUATION_COMPLETED_ON</th>\n",
       "      <th>EXTERIOR_CLADDING</th>\n",
       "      <th>EXTERIOR_GROUNDS</th>\n",
       "      <th>EXTERIOR_WALKWAYS</th>\n",
       "      <th>...</th>\n",
       "      <th>SCORE</th>\n",
       "      <th>SECURITY</th>\n",
       "      <th>SITE_ADDRESS</th>\n",
       "      <th>STAIRWELLS</th>\n",
       "      <th>STORAGE_AREAS_LOCKERS</th>\n",
       "      <th>WARD</th>\n",
       "      <th>WATER_PEN_EXT_BLDG_ELEMENTS</th>\n",
       "      <th>YEAR_BUILT</th>\n",
       "      <th>YEAR_REGISTERED</th>\n",
       "      <th>_id</th>\n",
       "    </tr>\n",
       "  </thead>\n",
       "  <tbody>\n",
       "    <tr>\n",
       "      <th>0</th>\n",
       "      <td>NaN</td>\n",
       "      <td>7.0</td>\n",
       "      <td>34.0</td>\n",
       "      <td>4.0</td>\n",
       "      <td>4.0</td>\n",
       "      <td>4.0</td>\n",
       "      <td>03/12/2019</td>\n",
       "      <td>3.0</td>\n",
       "      <td>4.0</td>\n",
       "      <td>4.0</td>\n",
       "      <td>...</td>\n",
       "      <td>78.0</td>\n",
       "      <td>5.0</td>\n",
       "      <td>49  ST CLAIR AVE W</td>\n",
       "      <td>4.0</td>\n",
       "      <td>NaN</td>\n",
       "      <td>12</td>\n",
       "      <td>4.0</td>\n",
       "      <td>1930.0</td>\n",
       "      <td>2017.0</td>\n",
       "      <td>6906</td>\n",
       "    </tr>\n",
       "    <tr>\n",
       "      <th>1</th>\n",
       "      <td>NaN</td>\n",
       "      <td>4.0</td>\n",
       "      <td>24.0</td>\n",
       "      <td>NaN</td>\n",
       "      <td>3.0</td>\n",
       "      <td>3.0</td>\n",
       "      <td>03/05/2019</td>\n",
       "      <td>3.0</td>\n",
       "      <td>3.0</td>\n",
       "      <td>3.0</td>\n",
       "      <td>...</td>\n",
       "      <td>73.0</td>\n",
       "      <td>5.0</td>\n",
       "      <td>320  AVENUE RD</td>\n",
       "      <td>4.0</td>\n",
       "      <td>NaN</td>\n",
       "      <td>12</td>\n",
       "      <td>4.0</td>\n",
       "      <td>1925.0</td>\n",
       "      <td>2017.0</td>\n",
       "      <td>6907</td>\n",
       "    </tr>\n",
       "    <tr>\n",
       "      <th>2</th>\n",
       "      <td>4.0</td>\n",
       "      <td>7.0</td>\n",
       "      <td>68.0</td>\n",
       "      <td>4.0</td>\n",
       "      <td>4.0</td>\n",
       "      <td>4.0</td>\n",
       "      <td>03/08/2019</td>\n",
       "      <td>3.0</td>\n",
       "      <td>4.0</td>\n",
       "      <td>4.0</td>\n",
       "      <td>...</td>\n",
       "      <td>77.0</td>\n",
       "      <td>5.0</td>\n",
       "      <td>7  EDMUND AVE</td>\n",
       "      <td>3.0</td>\n",
       "      <td>4.0</td>\n",
       "      <td>12</td>\n",
       "      <td>4.0</td>\n",
       "      <td>1928.0</td>\n",
       "      <td>2017.0</td>\n",
       "      <td>6908</td>\n",
       "    </tr>\n",
       "  </tbody>\n",
       "</table>\n",
       "<p>3 rows × 33 columns</p>\n",
       "</div>"
      ],
      "text/plain": [
       "   BALCONY_GUARDS  CONFIRMED_STOREYS  CONFIRMED_UNITS  ELEVATORS  \\\n",
       "0             NaN                7.0             34.0        4.0   \n",
       "1             NaN                4.0             24.0        NaN   \n",
       "2             4.0                7.0             68.0        4.0   \n",
       "\n",
       "   ENTRANCE_DOORS_WINDOWS  ENTRANCE_LOBBY EVALUATION_COMPLETED_ON  \\\n",
       "0                     4.0             4.0              03/12/2019   \n",
       "1                     3.0             3.0              03/05/2019   \n",
       "2                     4.0             4.0              03/08/2019   \n",
       "\n",
       "   EXTERIOR_CLADDING  EXTERIOR_GROUNDS  EXTERIOR_WALKWAYS  ...  SCORE  \\\n",
       "0                3.0               4.0                4.0  ...   78.0   \n",
       "1                3.0               3.0                3.0  ...   73.0   \n",
       "2                3.0               4.0                4.0  ...   77.0   \n",
       "\n",
       "   SECURITY        SITE_ADDRESS  STAIRWELLS  STORAGE_AREAS_LOCKERS  WARD  \\\n",
       "0       5.0  49  ST CLAIR AVE W         4.0                    NaN    12   \n",
       "1       5.0     320  AVENUE RD          4.0                    NaN    12   \n",
       "2       5.0      7  EDMUND AVE          3.0                    4.0    12   \n",
       "\n",
       "   WATER_PEN_EXT_BLDG_ELEMENTS  YEAR_BUILT YEAR_REGISTERED   _id  \n",
       "0                          4.0      1930.0          2017.0  6906  \n",
       "1                          4.0      1925.0          2017.0  6907  \n",
       "2                          4.0      1928.0          2017.0  6908  \n",
       "\n",
       "[3 rows x 33 columns]"
      ]
     },
     "execution_count": 72,
     "metadata": {},
     "output_type": "execute_result"
    }
   ],
   "source": [
    "# 1.3 reading in data for apartment building evaluation\n",
    "build_eval_df = (spark.read\n",
    "  .option(\"header\", True)\n",
    "  .json(\"Apartment_Building_Evaluation.json\")\n",
    ")\n",
    "build_eval_df.limit(3).toPandas()\n"
   ]
  },
  {
   "cell_type": "code",
   "execution_count": 65,
   "metadata": {},
   "outputs": [
    {
     "data": {
      "text/plain": [
       "'Step 2: Explore and Assess the Data\\n\\nExplore the Data\\nIdentify data quality issues, like missing values, duplicate data, etc.\\n\\nCleaning Steps\\n\\n# 2.1 development applications\\n- removing unneseccary columns\\n- creating a complete address\\n- matching address with Ward\\n\\n# 2.2 ward demographics\\n- remove \"Median Age\" and \"Ward\" from rows\\n- round median age\\n\\n# 2.3 apartment building evaluation\\n- rows with no BALCONY_GUARDS should be removed\\n- Evavator column, NAN should be replaced with 0 and 1 if there is an elevator\\n\\n'"
      ]
     },
     "execution_count": 65,
     "metadata": {},
     "output_type": "execute_result"
    }
   ],
   "source": [
    "'''Step 2: Explore and Assess the Data\n",
    "\n",
    "Explore the Data\n",
    "Identify data quality issues, like missing values, duplicate data, etc.\n",
    "\n",
    "Cleaning Steps\n",
    "\n",
    "# 2.1 development applications\n",
    "- removing unneseccary columns\n",
    "- creating a complete address\n",
    "- matching address with Ward\n",
    "\n",
    "# 2.2 ward demographics\n",
    "- remove \"Median Age\" and \"Ward\" from rows\n",
    "- round median age\n",
    "\n",
    "# 2.3 apartment building evaluation\n",
    "- rows with no BALCONY_GUARDS should be removed\n",
    "- Evavator column, NAN should be replaced with 0 and 1 if there is an elevator\n",
    "\n",
    "'''\n"
   ]
  },
  {
   "cell_type": "code",
   "execution_count": null,
   "metadata": {},
   "outputs": [],
   "source": [
    "'''2.1 development applications\n",
    "- removing unneseccary columns\n",
    "- creating a complete address\n",
    "- matching address with Ward\n",
    "'''\n"
   ]
  },
  {
   "cell_type": "code",
   "execution_count": null,
   "metadata": {},
   "outputs": [],
   "source": [
    "'''2.2 ward demographics\n",
    "- remove \"Median Age\" and \"Ward\" from rows\n",
    "- round median age\n",
    "'''"
   ]
  },
  {
   "cell_type": "code",
   "execution_count": null,
   "metadata": {},
   "outputs": [],
   "source": [
    "''' 2.3 apartment building evaluation\n",
    "- rows with no BALCONY_GUARDS should be removed\n",
    "- Evavator column, NAN should be replaced with 0 and 1 if there is an elevator\n",
    "'''"
   ]
  },
  {
   "cell_type": "code",
   "execution_count": null,
   "metadata": {},
   "outputs": [],
   "source": [
    "''' Step 3: Define the Data Model\n",
    "'''"
   ]
  },
  {
   "cell_type": "code",
   "execution_count": 70,
   "metadata": {},
   "outputs": [],
   "source": [
    "# Need to create a temp veiw to run spark sql\n",
    "dev_application_df.createOrReplaceTempView(\"dev_application\")\n",
    "ward_demo_df.createOrReplaceTempView(\"ward_demo\")\n",
    "build_eval_df.createOrReplaceTempView(\"build_eval\")"
   ]
  },
  {
   "cell_type": "code",
   "execution_count": 71,
   "metadata": {},
   "outputs": [
    {
     "ename": "NameError",
     "evalue": "name '_id' is not defined",
     "output_type": "error",
     "traceback": [
      "\u001b[1;31m---------------------------------------------------------------------------\u001b[0m",
      "\u001b[1;31mNameError\u001b[0m                                 Traceback (most recent call last)",
      "\u001b[1;32m<ipython-input-71-75749404210f>\u001b[0m in \u001b[0;36m<module>\u001b[1;34m\u001b[0m\n\u001b[0;32m      6\u001b[0m \u001b[1;31m# 4.1 development applications\u001b[0m\u001b[1;33m\u001b[0m\u001b[1;33m\u001b[0m\u001b[1;33m\u001b[0m\u001b[0m\n\u001b[0;32m      7\u001b[0m '''\n\u001b[1;32m----> 8\u001b[1;33m \u001b[1;33m[\u001b[0m\u001b[0m_id\u001b[0m \u001b[1;33m,\u001b[0m \u001b[0mSUBMITTED\u001b[0m\u001b[1;33m,\u001b[0m \u001b[0mDESCRIPTION\u001b[0m\u001b[1;33m,\u001b[0m \u001b[0mSTATUS\u001b[0m\u001b[1;33m,\u001b[0m \u001b[0mSTREET_DIRECTION\u001b[0m\u001b[1;33m,\u001b[0m \u001b[0mSTREET_NAME\u001b[0m\u001b[1;33m,\u001b[0m \u001b[0mSTREET_NUM\u001b[0m\u001b[1;33m,\u001b[0m \u001b[0mSTREET_TYPE\u001b[0m\u001b[1;33m]\u001b[0m\u001b[1;33m\u001b[0m\u001b[1;33m\u001b[0m\u001b[0m\n\u001b[0m\u001b[0;32m      9\u001b[0m \u001b[1;33m\u001b[0m\u001b[0m\n\u001b[0;32m     10\u001b[0m dev_application_table = spark.sql(\"\"\"\n",
      "\u001b[1;31mNameError\u001b[0m: name '_id' is not defined"
     ]
    }
   ],
   "source": [
    "'''Step 4: Run Pipelines to Model the Data\n",
    "\n",
    "4.1 Create the data model\n",
    "\n",
    "# 4.1 development applications\n",
    "'''\n",
    "[_id , SUBMITTED, DESCRIPTION, STATUS, STREET_DIRECTION, STREET_NAME, STREET_NUM, STREET_TYPE]\n",
    "\n",
    "dev_application_table = spark.sql(\"\"\"\n",
    "select\n",
    "      _id,\n",
    "      DATE_SUBMITTED,\n",
    "      DESCRIPTION,\n",
    "      STATUS,\n",
    "      STREET_DIRECTION,\n",
    "      STREET_NAME,\n",
    "      STREET_NUM,\n",
    "      STREET_TYPE,\n",
    "from dev_application\n",
    "\"\"\")\n",
    "dev_application_table.limit(2).toPandas()"
   ]
  },
  {
   "cell_type": "code",
   "execution_count": null,
   "metadata": {},
   "outputs": [],
   "source": [
    "# Writing tables in s3\n",
    "table_name = \"dev_application_table\"\n",
    "parquet_file_name = temp_bucket + table_name + \".parquet\"\n",
    "dev_application_table.write.parquet(\"s3a://\" + parquet_file_name)"
   ]
  },
  {
   "cell_type": "code",
   "execution_count": null,
   "metadata": {},
   "outputs": [],
   "source": [
    "# 4.2 ward demographics\n"
   ]
  },
  {
   "cell_type": "code",
   "execution_count": null,
   "metadata": {},
   "outputs": [],
   "source": [
    "# 4.3 apartment building evaluation\n"
   ]
  },
  {
   "cell_type": "code",
   "execution_count": null,
   "metadata": {},
   "outputs": [],
   "source": [
    "'''4.4 Data dictionary\n",
    "\n",
    "Create a data dictionary for your data model. \n",
    "For each field, provide a brief description of what the data is and where it came from. \n",
    "\n",
    "'''"
   ]
  },
  {
   "cell_type": "code",
   "execution_count": null,
   "metadata": {},
   "outputs": [],
   "source": [
    "# Clean up \n"
   ]
  },
  {
   "cell_type": "code",
   "execution_count": null,
   "metadata": {},
   "outputs": [],
   "source": [
    "'''\n",
    "Step 5: Complete Project Write Up\n",
    "\n",
    "\n",
    "'''"
   ]
  }
 ],
 "metadata": {
  "kernelspec": {
   "display_name": "Python 3",
   "language": "python",
   "name": "python3"
  },
  "language_info": {
   "codemirror_mode": {
    "name": "ipython",
    "version": 3
   },
   "file_extension": ".py",
   "mimetype": "text/x-python",
   "name": "python",
   "nbconvert_exporter": "python",
   "pygments_lexer": "ipython3",
   "version": "3.7.7"
  }
 },
 "nbformat": 4,
 "nbformat_minor": 4
}
